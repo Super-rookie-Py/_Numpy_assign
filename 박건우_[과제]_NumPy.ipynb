{
  "nbformat": 4,
  "nbformat_minor": 0,
  "metadata": {
    "kernelspec": {
      "display_name": "Python 3",
      "language": "python",
      "name": "python3"
    },
    "language_info": {
      "codemirror_mode": {
        "name": "ipython",
        "version": 3
      },
      "file_extension": ".py",
      "mimetype": "text/x-python",
      "name": "python",
      "nbconvert_exporter": "python",
      "pygments_lexer": "ipython3",
      "version": "3.7.4"
    },
    "colab": {
      "name": "박건우 - [과제] NumPy.ipynb",
      "provenance": [],
      "collapsed_sections": [],
      "include_colab_link": true
    }
  },
  "cells": [
    {
      "cell_type": "markdown",
      "metadata": {
        "id": "view-in-github",
        "colab_type": "text"
      },
      "source": [
        "<a href=\"https://colab.research.google.com/github/Super-rookie-Py/_Numpy_assign/blob/master/%EB%B0%95%EA%B1%B4%EC%9A%B0_%5B%EA%B3%BC%EC%A0%9C%5D_NumPy.ipynb\" target=\"_parent\"><img src=\"https://colab.research.google.com/assets/colab-badge.svg\" alt=\"Open In Colab\"/></a>"
      ]
    },
    {
      "cell_type": "markdown",
      "metadata": {
        "id": "YNiUz2e5IRKD",
        "colab_type": "text"
      },
      "source": [
        "- keonwoo Park 2020/08/25"
      ]
    },
    {
      "cell_type": "code",
      "metadata": {
        "id": "ndAixUbaamn2",
        "colab_type": "code",
        "colab": {}
      },
      "source": [
        "import numpy as np"
      ],
      "execution_count": 1,
      "outputs": []
    },
    {
      "cell_type": "code",
      "metadata": {
        "id": "4l4E56ptamoJ",
        "colab_type": "code",
        "colab": {
          "base_uri": "https://localhost:8080/",
          "height": 318
        },
        "outputId": "206e1fa3-4013-4d5a-8666-f67dcc2f18de"
      },
      "source": [
        "# 모두 0으로 채운 3 x 3 배열 a 생성 \n",
        "a = np.zeros((3,3))\n",
        "print(a)\n",
        "\n",
        "# 모두 1로 채운 2 x 3 배열 b 생성\n",
        "b = np.ones((2, 3))\n",
        "print(b)\n",
        "\n",
        "# 5로 채운 2 x 3 x 3 배열 c 생성\n",
        "c = np.full((2, 3, 3), 5)\n",
        "print(c)\n",
        "\n",
        "# 5 x 5 단위 행렬 d 생성\n",
        "d = np.eye(5)\n",
        "print(d)\n"
      ],
      "execution_count": 8,
      "outputs": [
        {
          "output_type": "stream",
          "text": [
            "[[0. 0. 0.]\n",
            " [0. 0. 0.]\n",
            " [0. 0. 0.]]\n",
            "[[1. 1. 1.]\n",
            " [1. 1. 1.]]\n",
            "[[[5 5 5]\n",
            "  [5 5 5]\n",
            "  [5 5 5]]\n",
            "\n",
            " [[5 5 5]\n",
            "  [5 5 5]\n",
            "  [5 5 5]]]\n",
            "[[1. 0. 0. 0. 0.]\n",
            " [0. 1. 0. 0. 0.]\n",
            " [0. 0. 1. 0. 0.]\n",
            " [0. 0. 0. 1. 0.]\n",
            " [0. 0. 0. 0. 1.]]\n"
          ],
          "name": "stdout"
        }
      ]
    },
    {
      "cell_type": "code",
      "metadata": {
        "id": "JkG3QD3SamoX",
        "colab_type": "code",
        "colab": {
          "base_uri": "https://localhost:8080/",
          "height": 87
        },
        "outputId": "5eba96de-818c-4a9c-c8dc-9a0a8bc29a4a"
      },
      "source": [
        "# range, reshape 함수를 사용하여 1~20 의 정수로 4 x 5 배열 arr 생성\n",
        "\n",
        "arr = np.arange(1,21).reshape(4, 5)\n",
        "print(arr)"
      ],
      "execution_count": 9,
      "outputs": [
        {
          "output_type": "stream",
          "text": [
            "[[ 1  2  3  4  5]\n",
            " [ 6  7  8  9 10]\n",
            " [11 12 13 14 15]\n",
            " [16 17 18 19 20]]\n"
          ],
          "name": "stdout"
        }
      ]
    },
    {
      "cell_type": "code",
      "metadata": {
        "id": "aJF1k4pFamoj",
        "colab_type": "code",
        "colab": {
          "base_uri": "https://localhost:8080/",
          "height": 34
        },
        "outputId": "fa9724b6-ef1e-43a4-dc33-c9c446d47cdb"
      },
      "source": [
        "# 불린 인덱스를 이용하여 arr 배열의 대각선 '\\' 상의 요소 선택\n",
        "\n",
        "diagonal = np.array([[True, False, False, False, False],\n",
        "                     [False, True, False, False, False],\n",
        "                     [False, False, True, False, False],\n",
        "                     [False, False, False, True, False]])\n",
        "print(arr[diagonal])"
      ],
      "execution_count": 15,
      "outputs": [
        {
          "output_type": "stream",
          "text": [
            "[ 1  7 13 19]\n"
          ],
          "name": "stdout"
        }
      ]
    },
    {
      "cell_type": "code",
      "metadata": {
        "id": "xUUWXjVJamon",
        "colab_type": "code",
        "colab": {
          "base_uri": "https://localhost:8080/",
          "height": 34
        },
        "outputId": "0c9c87a5-1ac9-4a86-d8b0-134ca356c639"
      },
      "source": [
        "# arr 배열의 인덱스가 짝수인 요소만 조회 (불린 인덱스와 조건식을 조합)\n",
        "idx = np.arange(0,20).reshape(4,5)\n",
        "print(arr[(idx % 2 == 0)])\n"
      ],
      "execution_count": 28,
      "outputs": [
        {
          "output_type": "stream",
          "text": [
            "[ 1  3  5  7  9 11 13 15 17 19]\n"
          ],
          "name": "stdout"
        }
      ]
    },
    {
      "cell_type": "markdown",
      "metadata": {
        "id": "a4GOfQ9_amot",
        "colab_type": "text"
      },
      "source": [
        "# 배열 간 연산"
      ]
    },
    {
      "cell_type": "code",
      "metadata": {
        "id": "y1oA3fGCamou",
        "colab_type": "code",
        "colab": {
          "base_uri": "https://localhost:8080/",
          "height": 158
        },
        "outputId": "14c98ee9-14aa-4d0f-8fa7-138bcd21f440"
      },
      "source": [
        "m1 = np.array([\n",
        "    [1,2],\n",
        "    [3,4]\n",
        "])\n",
        "m2 = np.array([\n",
        "    [5,6],\n",
        "    [7,8]\n",
        "])\n",
        "\n",
        "# m1, m2 배열의 각 요소 간 합, 차, 곱 그리고 행렬곱을 구하기\n",
        "a1 = m1 + m2\n",
        "print(a1)\n",
        "\n",
        "a2 = m1 - m2\n",
        "print(a2)\n",
        "\n",
        "a3 = m1 * m2\n",
        "print(a3)\n",
        "\n",
        "a4 = np.matmul(m1, m2)\n",
        "print(a4)"
      ],
      "execution_count": 33,
      "outputs": [
        {
          "output_type": "stream",
          "text": [
            "[[ 6  8]\n",
            " [10 12]]\n",
            "[[-4 -4]\n",
            " [-4 -4]]\n",
            "[[ 5 12]\n",
            " [21 32]]\n",
            "[[19 22]\n",
            " [43 50]]\n"
          ],
          "name": "stdout"
        }
      ]
    },
    {
      "cell_type": "code",
      "metadata": {
        "id": "-NRPVzJrampI",
        "colab_type": "code",
        "colab": {
          "base_uri": "https://localhost:8080/",
          "height": 34
        },
        "outputId": "0530f563-eb71-483d-e645-2a45e16b0ad0"
      },
      "source": [
        "# arr 배열의 컬럼(열)별 합계\n",
        "print(np.sum(arr, axis = 0))"
      ],
      "execution_count": 37,
      "outputs": [
        {
          "output_type": "stream",
          "text": [
            "[34 38 42 46 50]\n"
          ],
          "name": "stdout"
        }
      ]
    },
    {
      "cell_type": "code",
      "metadata": {
        "id": "sE2CmNvlampJ",
        "colab_type": "code",
        "colab": {
          "base_uri": "https://localhost:8080/",
          "height": 34
        },
        "outputId": "349e8d0b-f60d-418a-a886-aabc4ada7b60"
      },
      "source": [
        "# arr 배열의 행별 평균\n",
        "np.mean(arr,axis = 1)"
      ],
      "execution_count": 39,
      "outputs": [
        {
          "output_type": "execute_result",
          "data": {
            "text/plain": [
              "array([ 3.,  8., 13., 18.])"
            ]
          },
          "metadata": {
            "tags": []
          },
          "execution_count": 39
        }
      ]
    },
    {
      "cell_type": "markdown",
      "metadata": {
        "id": "326PkC0nootr",
        "colab_type": "text"
      },
      "source": [
        "## 구글 드라이브와 연동하여 파일을 불러오기 해 보겠습니다."
      ]
    },
    {
      "cell_type": "code",
      "metadata": {
        "id": "VQEUlGKFjoQ3",
        "colab_type": "code",
        "colab": {
          "base_uri": "https://localhost:8080/",
          "height": 34
        },
        "outputId": "f14ea979-8fd1-48cd-fe6f-437d4ec75db9"
      },
      "source": [
        "# 아래 코드를 실행하세요\n",
        "\n",
        "from google.colab import drive\n",
        "drive.mount('/content/gdrive')"
      ],
      "execution_count": 44,
      "outputs": [
        {
          "output_type": "stream",
          "text": [
            "Drive already mounted at /content/gdrive; to attempt to forcibly remount, call drive.mount(\"/content/gdrive\", force_remount=True).\n"
          ],
          "name": "stdout"
        }
      ]
    },
    {
      "cell_type": "markdown",
      "metadata": {
        "id": "YwshIiIPpSTS",
        "colab_type": "text"
      },
      "source": [
        "다음과 같은 실행 결과가 나오면 URL을 클릭하세요.\n",
        "\n",
        "그럼 아래와 같은 페이지가 뜰거에요.\n",
        "\n",
        "![alt text](https://t1.daumcdn.net/cfile/tistory/99AE13495BECEC180F)\n",
        "\n",
        "\n",
        "[허용] 버튼을 클릭하시면 인증 코드가 나와요. 코드를 복사하셔서 authorization code: 영역에 붙여 넣기 하시면 됩니다.\n",
        "\n",
        "이제부터는 /content/gdrive/My Drive/Colab Notebooks/data/ 경로에 업로드한 파일을 colab에서 불러와서 사용할 수 있습니다.\n",
        "\n",
        "(data 폴더는 따로 만들었어요. 여기에 외부 데이터 파일을 모아 두세요.)\n",
        "\n",
        "\n"
      ]
    },
    {
      "cell_type": "code",
      "metadata": {
        "id": "Qfq6WmOzn9KE",
        "colab_type": "code",
        "colab": {
          "base_uri": "https://localhost:8080/",
          "height": 905
        },
        "outputId": "678496e2-5489-4988-9c91-5260620fd723"
      },
      "source": [
        "# 아래 코드를 실행하여 cars 데이터셋을 불러오기 하세요.\n",
        "\n",
        "dat = np.genfromtxt(\"/content/gdrive/My Drive/Colab Notebooks/data/cars.txt\", skip_header=True)\n",
        "dat"
      ],
      "execution_count": 50,
      "outputs": [
        {
          "output_type": "execute_result",
          "data": {
            "text/plain": [
              "array([[  4.,   2.],\n",
              "       [  4.,  10.],\n",
              "       [  7.,   4.],\n",
              "       [  7.,  22.],\n",
              "       [  8.,  16.],\n",
              "       [  9.,  10.],\n",
              "       [ 10.,  18.],\n",
              "       [ 10.,  26.],\n",
              "       [ 10.,  34.],\n",
              "       [ 11.,  17.],\n",
              "       [ 11.,  28.],\n",
              "       [ 12.,  14.],\n",
              "       [ 12.,  20.],\n",
              "       [ 12.,  24.],\n",
              "       [ 12.,  28.],\n",
              "       [ 13.,  26.],\n",
              "       [ 13.,  34.],\n",
              "       [ 13.,  34.],\n",
              "       [ 13.,  46.],\n",
              "       [ 14.,  26.],\n",
              "       [ 14.,  36.],\n",
              "       [ 14.,  60.],\n",
              "       [ 14.,  80.],\n",
              "       [ 15.,  20.],\n",
              "       [ 15.,  26.],\n",
              "       [ 15.,  54.],\n",
              "       [ 16.,  32.],\n",
              "       [ 16.,  40.],\n",
              "       [ 17.,  32.],\n",
              "       [ 17.,  40.],\n",
              "       [ 17.,  50.],\n",
              "       [ 18.,  42.],\n",
              "       [ 18.,  56.],\n",
              "       [ 18.,  76.],\n",
              "       [ 18.,  84.],\n",
              "       [ 19.,  36.],\n",
              "       [ 19.,  46.],\n",
              "       [ 19.,  68.],\n",
              "       [ 20.,  32.],\n",
              "       [ 20.,  48.],\n",
              "       [ 20.,  52.],\n",
              "       [ 20.,  56.],\n",
              "       [ 20.,  64.],\n",
              "       [ 22.,  66.],\n",
              "       [ 23.,  54.],\n",
              "       [ 24.,  70.],\n",
              "       [ 24.,  92.],\n",
              "       [ 24.,  93.],\n",
              "       [ 24., 120.],\n",
              "       [ 25.,  85.]])"
            ]
          },
          "metadata": {
            "tags": []
          },
          "execution_count": 50
        }
      ]
    },
    {
      "cell_type": "code",
      "metadata": {
        "id": "oDVL5-Koq0j4",
        "colab_type": "code",
        "colab": {
          "base_uri": "https://localhost:8080/",
          "height": 70
        },
        "outputId": "c10392d0-e396-4c73-fce0-58d30862287c"
      },
      "source": [
        "# dat 데이터에서 첫번째열은 speed, 두번째열은 dist입니다. speed 데이터만 추출하여 speed 변수에 저장하세요.\n",
        "\n",
        "speed = dat[:,0]\n",
        "print(speed)"
      ],
      "execution_count": 53,
      "outputs": [
        {
          "output_type": "stream",
          "text": [
            "[ 4.  4.  7.  7.  8.  9. 10. 10. 10. 11. 11. 12. 12. 12. 12. 13. 13. 13.\n",
            " 13. 14. 14. 14. 14. 15. 15. 15. 16. 16. 17. 17. 17. 18. 18. 18. 18. 19.\n",
            " 19. 19. 20. 20. 20. 20. 20. 22. 23. 24. 24. 24. 24. 25.]\n"
          ],
          "name": "stdout"
        }
      ]
    },
    {
      "cell_type": "code",
      "metadata": {
        "id": "6Y19abQWampS",
        "colab_type": "code",
        "colab": {
          "base_uri": "https://localhost:8080/",
          "height": 52
        },
        "outputId": "816dc695-d943-434b-f0e8-341592946c22"
      },
      "source": [
        "# speed 의 평균, 분산을 구하세요.\n",
        "\n",
        "mean_speed = np.mean(speed)\n",
        "print(mean_speed)\n",
        "var_speed = np.var(speed)\n",
        "print(var_speed)"
      ],
      "execution_count": 56,
      "outputs": [
        {
          "output_type": "stream",
          "text": [
            "15.4\n",
            "27.4\n"
          ],
          "name": "stdout"
        }
      ]
    }
  ]
}